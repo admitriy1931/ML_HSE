{
 "cells": [
  {
   "cell_type": "code",
   "execution_count": 1,
   "id": "1423a51d",
   "metadata": {},
   "outputs": [],
   "source": [
    "import pandas as pd\n",
    "import numpy as np\n",
    "import seaborn as sns\n",
    "import matplotlib.pyplot as plt"
   ]
  },
  {
   "cell_type": "code",
   "execution_count": 2,
   "id": "8d7433c4",
   "metadata": {},
   "outputs": [],
   "source": [
    "def get_dataset(size):\n",
    "    \"\"\"Create fake dataset\"\"\"\n",
    "    data = pd.DataFrame()\n",
    "    data['model'] = np.random.choice(\n",
    "    ['m1', 'm2', 'm3', 'm4'], size)\n",
    "    data['fuel'] = np.random.choice(['petrol', 'diesel', 'gas'], size)\n",
    "    data['production_date'] = np.random.randint(1990, 2024, size)\n",
    "    data['transmission'] = np.random.choice(\n",
    "    ['mechanical', 'automatic', 'robotic'], size)\n",
    "    data['engine_power'] = np.random.randint(129, 609, size)\n",
    "    data['price'] = np.random.uniform(60000., 12460000, size)\n",
    "    data['count'] = np.random.randint(1, 30, size)\n",
    "    return data"
   ]
  },
  {
   "cell_type": "markdown",
   "id": "94ec292c",
   "metadata": {},
   "source": [
    "**Изучаем эффективное выделение памяти в Pandas**\n",
    "1. int8: -128 to 127\n",
    "2. int16: -32768 to 32767\n",
    "3. int32: -2147483648 to 2147483647\n",
    "4. int64: -9223372036854775808 to 9223372036854775807"
   ]
  },
  {
   "cell_type": "code",
   "execution_count": 3,
   "id": "3e166415",
   "metadata": {},
   "outputs": [],
   "source": [
    "SIZE = 1_000_000\n",
    "df = get_dataset(SIZE)"
   ]
  },
  {
   "cell_type": "code",
   "execution_count": 4,
   "id": "a3c1bf4d",
   "metadata": {},
   "outputs": [
    {
     "data": {
      "text/html": [
       "<div>\n",
       "<style scoped>\n",
       "    .dataframe tbody tr th:only-of-type {\n",
       "        vertical-align: middle;\n",
       "    }\n",
       "\n",
       "    .dataframe tbody tr th {\n",
       "        vertical-align: top;\n",
       "    }\n",
       "\n",
       "    .dataframe thead th {\n",
       "        text-align: right;\n",
       "    }\n",
       "</style>\n",
       "<table border=\"1\" class=\"dataframe\">\n",
       "  <thead>\n",
       "    <tr style=\"text-align: right;\">\n",
       "      <th></th>\n",
       "      <th>model</th>\n",
       "      <th>fuel</th>\n",
       "      <th>production_date</th>\n",
       "      <th>transmission</th>\n",
       "      <th>engine_power</th>\n",
       "      <th>price</th>\n",
       "      <th>count</th>\n",
       "    </tr>\n",
       "  </thead>\n",
       "  <tbody>\n",
       "    <tr>\n",
       "      <th>0</th>\n",
       "      <td>m2</td>\n",
       "      <td>petrol</td>\n",
       "      <td>2000</td>\n",
       "      <td>robotic</td>\n",
       "      <td>152</td>\n",
       "      <td>2.184988e+06</td>\n",
       "      <td>25</td>\n",
       "    </tr>\n",
       "    <tr>\n",
       "      <th>1</th>\n",
       "      <td>m2</td>\n",
       "      <td>gas</td>\n",
       "      <td>2004</td>\n",
       "      <td>robotic</td>\n",
       "      <td>467</td>\n",
       "      <td>9.848318e+06</td>\n",
       "      <td>21</td>\n",
       "    </tr>\n",
       "    <tr>\n",
       "      <th>2</th>\n",
       "      <td>m4</td>\n",
       "      <td>diesel</td>\n",
       "      <td>1997</td>\n",
       "      <td>automatic</td>\n",
       "      <td>287</td>\n",
       "      <td>8.510675e+06</td>\n",
       "      <td>24</td>\n",
       "    </tr>\n",
       "    <tr>\n",
       "      <th>3</th>\n",
       "      <td>m3</td>\n",
       "      <td>diesel</td>\n",
       "      <td>2000</td>\n",
       "      <td>robotic</td>\n",
       "      <td>419</td>\n",
       "      <td>7.012271e+06</td>\n",
       "      <td>14</td>\n",
       "    </tr>\n",
       "    <tr>\n",
       "      <th>4</th>\n",
       "      <td>m3</td>\n",
       "      <td>diesel</td>\n",
       "      <td>2006</td>\n",
       "      <td>mechanical</td>\n",
       "      <td>243</td>\n",
       "      <td>5.313373e+06</td>\n",
       "      <td>20</td>\n",
       "    </tr>\n",
       "  </tbody>\n",
       "</table>\n",
       "</div>"
      ],
      "text/plain": [
       "  model    fuel  production_date transmission  engine_power         price  \\\n",
       "0    m2  petrol             2000      robotic           152  2.184988e+06   \n",
       "1    m2     gas             2004      robotic           467  9.848318e+06   \n",
       "2    m4  diesel             1997    automatic           287  8.510675e+06   \n",
       "3    m3  diesel             2000      robotic           419  7.012271e+06   \n",
       "4    m3  diesel             2006   mechanical           243  5.313373e+06   \n",
       "\n",
       "   count  \n",
       "0     25  \n",
       "1     21  \n",
       "2     24  \n",
       "3     14  \n",
       "4     20  "
      ]
     },
     "execution_count": 4,
     "metadata": {},
     "output_type": "execute_result"
    }
   ],
   "source": [
    "df.head()"
   ]
  },
  {
   "cell_type": "code",
   "execution_count": 19,
   "id": "ae498ee3",
   "metadata": {},
   "outputs": [],
   "source": [
    "df_start = df.copy()"
   ]
  },
  {
   "cell_type": "code",
   "execution_count": 20,
   "id": "96649d70",
   "metadata": {},
   "outputs": [
    {
     "name": "stdout",
     "output_type": "stream",
     "text": [
      "<class 'pandas.core.frame.DataFrame'>\n",
      "RangeIndex: 1000000 entries, 0 to 999999\n",
      "Data columns (total 7 columns):\n",
      " #   Column           Non-Null Count    Dtype  \n",
      "---  ------           --------------    -----  \n",
      " 0   model            1000000 non-null  object \n",
      " 1   fuel             1000000 non-null  object \n",
      " 2   production_date  1000000 non-null  int16  \n",
      " 3   transmission     1000000 non-null  object \n",
      " 4   engine_power     1000000 non-null  int16  \n",
      " 5   price            1000000 non-null  float64\n",
      " 6   count            1000000 non-null  int8   \n",
      "dtypes: float64(1), int16(2), int8(1), object(3)\n",
      "memory usage: 35.3+ MB\n"
     ]
    }
   ],
   "source": [
    "df.info()"
   ]
  },
  {
   "cell_type": "code",
   "execution_count": 7,
   "id": "2f97dbc8",
   "metadata": {},
   "outputs": [
    {
     "data": {
      "text/plain": [
       "Index                  132\n",
       "model              8000000\n",
       "fuel               8000000\n",
       "production_date    4000000\n",
       "transmission       8000000\n",
       "engine_power       4000000\n",
       "price              8000000\n",
       "count              4000000\n",
       "dtype: int64"
      ]
     },
     "execution_count": 7,
     "metadata": {},
     "output_type": "execute_result"
    }
   ],
   "source": [
    "df.memory_usage()"
   ]
  },
  {
   "cell_type": "code",
   "execution_count": 8,
   "id": "664f54f4",
   "metadata": {},
   "outputs": [
    {
     "data": {
      "text/plain": [
       "44000132"
      ]
     },
     "execution_count": 8,
     "metadata": {},
     "output_type": "execute_result"
    }
   ],
   "source": [
    "df.memory_usage().sum()"
   ]
  },
  {
   "cell_type": "markdown",
   "id": "1a9facc8",
   "metadata": {},
   "source": [
    "**production_date**"
   ]
  },
  {
   "cell_type": "markdown",
   "id": "26fcad6f",
   "metadata": {},
   "source": [
    "**Изучаем эффективное выделение памяти в Pandas**\n",
    "1. int8: -128 to 127\n",
    "2. int16: -32768 to 32767\n",
    "3. int32: -2147483648 to 2147483647\n",
    "4. int64: -9223372036854775808 to 9223372036854775807"
   ]
  },
  {
   "cell_type": "code",
   "execution_count": 9,
   "id": "73e9a11b",
   "metadata": {},
   "outputs": [
    {
     "name": "stdout",
     "output_type": "stream",
     "text": [
      "1990 2023\n"
     ]
    }
   ],
   "source": [
    "print(df['production_date'].min(), df['production_date'].max())"
   ]
  },
  {
   "cell_type": "code",
   "execution_count": 10,
   "id": "9332fe10",
   "metadata": {},
   "outputs": [
    {
     "name": "stdout",
     "output_type": "stream",
     "text": [
      "129 608\n"
     ]
    }
   ],
   "source": [
    "print(df['engine_power'].min(), df['engine_power'].max())"
   ]
  },
  {
   "cell_type": "code",
   "execution_count": 11,
   "id": "9f5847ce",
   "metadata": {},
   "outputs": [],
   "source": [
    "int_large_cols = ['production_date', 'engine_power']\n",
    "df[int_large_cols] = df[int_large_cols].astype('int16')"
   ]
  },
  {
   "cell_type": "code",
   "execution_count": 12,
   "id": "62047163",
   "metadata": {},
   "outputs": [
    {
     "data": {
      "text/plain": [
       "Index                  132\n",
       "model              8000000\n",
       "fuel               8000000\n",
       "production_date    2000000\n",
       "transmission       8000000\n",
       "engine_power       2000000\n",
       "price              8000000\n",
       "count              4000000\n",
       "dtype: int64"
      ]
     },
     "execution_count": 12,
     "metadata": {},
     "output_type": "execute_result"
    }
   ],
   "source": [
    "df.memory_usage()"
   ]
  },
  {
   "cell_type": "code",
   "execution_count": 13,
   "id": "ca67c7ae",
   "metadata": {},
   "outputs": [
    {
     "data": {
      "text/plain": [
       "40000132"
      ]
     },
     "execution_count": 13,
     "metadata": {},
     "output_type": "execute_result"
    }
   ],
   "source": [
    "df.memory_usage().sum()"
   ]
  },
  {
   "cell_type": "markdown",
   "id": "2ce85aab",
   "metadata": {},
   "source": [
    "**count**"
   ]
  },
  {
   "cell_type": "code",
   "execution_count": 14,
   "id": "bebd311f",
   "metadata": {},
   "outputs": [
    {
     "name": "stdout",
     "output_type": "stream",
     "text": [
      "1 29\n"
     ]
    }
   ],
   "source": [
    "print(df['count'].min(), df['count'].max())"
   ]
  },
  {
   "cell_type": "code",
   "execution_count": 15,
   "id": "4da33b27",
   "metadata": {},
   "outputs": [],
   "source": [
    "df['count'] = df['count'].astype('int8')"
   ]
  },
  {
   "cell_type": "code",
   "execution_count": 16,
   "id": "6bad8956",
   "metadata": {},
   "outputs": [
    {
     "data": {
      "text/plain": [
       "Index                  132\n",
       "model              8000000\n",
       "fuel               8000000\n",
       "production_date    2000000\n",
       "transmission       8000000\n",
       "engine_power       2000000\n",
       "price              8000000\n",
       "count              1000000\n",
       "dtype: int64"
      ]
     },
     "execution_count": 16,
     "metadata": {},
     "output_type": "execute_result"
    }
   ],
   "source": [
    "df.memory_usage()"
   ]
  },
  {
   "cell_type": "code",
   "execution_count": 22,
   "id": "2e4a07a8",
   "metadata": {},
   "outputs": [
    {
     "data": {
      "text/plain": [
       "37000132"
      ]
     },
     "execution_count": 22,
     "metadata": {},
     "output_type": "execute_result"
    }
   ],
   "source": [
    "df.memory_usage().sum()"
   ]
  },
  {
   "cell_type": "markdown",
   "id": "534f5922",
   "metadata": {},
   "source": [
    "**category**"
   ]
  },
  {
   "cell_type": "code",
   "execution_count": 26,
   "id": "e480a88a",
   "metadata": {},
   "outputs": [],
   "source": [
    "cat_cols = df.select_dtypes('object').columns\n",
    "df[cat_cols] = df[cat_cols].astype('category')"
   ]
  },
  {
   "cell_type": "code",
   "execution_count": 27,
   "id": "df7341aa",
   "metadata": {},
   "outputs": [
    {
     "data": {
      "text/plain": [
       "Index                  132\n",
       "model              1000204\n",
       "fuel               1000132\n",
       "production_date    2000000\n",
       "transmission       1000132\n",
       "engine_power       2000000\n",
       "price              8000000\n",
       "count              1000000\n",
       "dtype: int64"
      ]
     },
     "execution_count": 27,
     "metadata": {},
     "output_type": "execute_result"
    }
   ],
   "source": [
    "df.memory_usage()"
   ]
  },
  {
   "cell_type": "code",
   "execution_count": 28,
   "id": "7a87b0d3",
   "metadata": {},
   "outputs": [
    {
     "data": {
      "text/plain": [
       "16000600"
      ]
     },
     "execution_count": 28,
     "metadata": {},
     "output_type": "execute_result"
    }
   ],
   "source": [
    "df.memory_usage().sum()"
   ]
  },
  {
   "cell_type": "markdown",
   "id": "dba2e532",
   "metadata": {},
   "source": [
    "**result**"
   ]
  },
  {
   "cell_type": "code",
   "execution_count": 29,
   "id": "c8eb5633",
   "metadata": {},
   "outputs": [],
   "source": [
    "df_end = df.copy()"
   ]
  },
  {
   "cell_type": "code",
   "execution_count": 30,
   "id": "de9a33e0",
   "metadata": {},
   "outputs": [
    {
     "name": "stdout",
     "output_type": "stream",
     "text": [
      "56000132   16000600\n"
     ]
    }
   ],
   "source": [
    "print(df_start.memory_usage().sum(), \" \", df_end.memory_usage().sum())"
   ]
  }
 ],
 "metadata": {
  "kernelspec": {
   "display_name": "Python 3 (ipykernel)",
   "language": "python",
   "name": "python3"
  },
  "language_info": {
   "codemirror_mode": {
    "name": "ipython",
    "version": 3
   },
   "file_extension": ".py",
   "mimetype": "text/x-python",
   "name": "python",
   "nbconvert_exporter": "python",
   "pygments_lexer": "ipython3",
   "version": "3.12.4"
  }
 },
 "nbformat": 4,
 "nbformat_minor": 5
}
